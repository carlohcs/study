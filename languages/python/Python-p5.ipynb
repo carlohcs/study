{
  "metadata": {
    "language_info": {
      "codemirror_mode": {
        "name": "ipython",
        "version": 3
      },
      "file_extension": ".py",
      "mimetype": "text/x-python",
      "name": "python",
      "nbconvert_exporter": "python",
      "pygments_lexer": "ipython3",
      "version": "2.7.17-final"
    },
    "orig_nbformat": 2,
    "kernelspec": {
      "name": "python3",
      "display_name": "Python 2.7.17 64-bit",
      "metadata": {
        "interpreter": {
          "hash": "767d51c1340bd893661ea55ea3124f6de3c7a262a8b4abca0554b478b1e2ff90"
        }
      }
    }
  },
  "nbformat": 4,
  "cells": [
    {
      "source": [
        "# Python - Conceitos básicos - Parte 5"
      ],
      "cell_type": "markdown",
      "metadata": {}
    },
    {
      "source": [
        "## Tópicos\n",
        "\n",
        "* Leitura do CSV\n",
        "* Filtragem e contagem dos carros elétricos\n",
        "* funcção para separação das tuplas\n",
        "* Contrução dos gráficos"
      ],
      "cell_type": "markdown",
      "metadata": {}
    },
    {
      "cell_type": "code",
      "metadata": {
        "id": "p2T7EplYXDWe"
      },
      "source": [
        "!pip install -q matplotlib\n",
        "from matplotlib import pyplot as plt\n",
        "import csv"
      ],
      "execution_count": null,
      "outputs": []
    },
    {
      "cell_type": "code",
      "metadata": {
        "colab": {
          "base_uri": "https://localhost:8080/",
          "height": 279
        },
        "id": "L8Yzk4a1aRBX",
        "outputId": "b88d62b9-3a90-4d0e-8512-132c672245b7"
      },
      "source": [
        "def obter_dados():\n",
        "    with open('CarRentalData.csv') as f:\n",
        "        return [dado_carro for dado_carro in csv.DictReader(f)]\n",
        "\n",
        "def contar_carros_eletricos_por_ano(dados):\n",
        "    # o objetivo é conseguir um dicionário\n",
        "    # nesse formato:\n",
        "    # {'2015': 100, '2016': 120}\n",
        "    contador = {}\n",
        "\n",
        "    for carro in dados:\n",
        "        if carro['fuelType'] == 'ELECTRIC':\n",
        "            ano = carro['vehicle.year']\n",
        "\n",
        "            qtd = contador.get(ano, 0) + 1\n",
        "\n",
        "            contador.update( {ano: qtd} )\n",
        "\n",
        "            # print(contador)\n",
        "\n",
        "    return contador\n",
        "\n",
        "\n",
        "def pegar_dados_de_lista_de_tuplas(lista_de_dados, posicao):\n",
        "  valores = []\n",
        "  for valor in lista_de_dados:\n",
        "    valores.append(valor[posicao])\n",
        "  \n",
        "  return valores\n",
        "\n",
        "\n",
        "# leu dados do CSV\n",
        "dados_carros = obter_dados() \n",
        "\n",
        "# contamos os carros por ano\n",
        "carros_eletricos_por_ano = contar_carros_eletricos_por_ano(dados_carros) \n",
        "\n",
        "# ordenar os dados para o gráfico\n",
        "carros_ordenados = sorted(carros_eletricos_por_ano.items())\n",
        "\n",
        "# separamos os dados em duas listas: tempo e quantidade\n",
        "anos = pegar_dados_de_lista_de_tuplas(carros_ordenados, 0)\n",
        "quantidades = pegar_dados_de_lista_de_tuplas(carros_ordenados, 1)\n",
        "\n",
        "# contruimos um gráfico\n",
        "plt.xlabel('Anos')\n",
        "plt.ylabel('Quantidade de Veículos Elétricos')\n",
        "plt.plot(anos, quantidades)\n",
        "plt.bar(anos, quantidades)\n",
        "plt.savefig('carros_eletricos_por_ano.png')"
      ],
      "execution_count": null,
      "outputs": [
        {
          "output_type": "display_data",
          "data": {
            "image/png": "[encoded data removed]",
            "text/plain": [
              "<Figure size 432x288 with 1 Axes>"
            ]
          },
          "metadata": {
            "tags": [],
            "needs_background": "light"
          }
        }
      ]
    }
  ]
}