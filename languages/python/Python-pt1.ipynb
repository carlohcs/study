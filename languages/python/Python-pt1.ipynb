{
 "metadata": {
  "language_info": {
   "codemirror_mode": {
    "name": "ipython",
    "version": 3
   },
   "file_extension": ".py",
   "mimetype": "text/x-python",
   "name": "python",
   "nbconvert_exporter": "python",
   "pygments_lexer": "ipython3",
   "version": "2.7.17-final"
  },
  "orig_nbformat": 2,
  "kernelspec": {
   "name": "python3",
   "display_name": "Python 2.7.17 64-bit",
   "metadata": {
    "interpreter": {
     "hash": "767d51c1340bd893661ea55ea3124f6de3c7a262a8b4abca0554b478b1e2ff90"
    }
   }
  }
 },
 "nbformat": 4,
 "nbformat_minor": 2,
 "cells": [
  {
   "source": [
    "# Python - Conceitos básicos"
   ],
   "cell_type": "markdown",
   "metadata": {}
  },
  {
   "source": [
    "Para rodar no VSCode:\n",
    "\n",
    "python -m pip install -U ipykernel"
   ],
   "cell_type": "markdown",
   "metadata": {}
  },
  {
   "source": [
    "Tentar ler: https://ricardoduarte.github.io/python-para-desenvolvedores/#prefacio1\n",
    "ou https://github.com/ricardoduarte/python-para-desenvolvedores"
   ],
   "cell_type": "markdown",
   "metadata": {}
  },
  {
   "source": [
    "## Tópicos\n",
    "* variáveis\n",
    "* listas\n",
    "* condicionais"
   ],
   "cell_type": "markdown",
   "metadata": {}
  },
  {
   "source": [
    "## Como criar uma variável\n",
    "\n",
    "Basta colocar o nome da sua variável e atribuir o valor a ela."
   ],
   "cell_type": "markdown",
   "metadata": {}
  },
  {
   "cell_type": "code",
   "execution_count": 1,
   "metadata": {},
   "outputs": [
    {
     "output_type": "stream",
     "name": "stdout",
     "text": [
      "2\n"
     ]
    }
   ],
   "source": [
    "variavel = 2\n",
    "print(variavel)"
   ]
  },
  {
   "source": [
    "## Como saber o tipo da variável\n",
    "\n",
    "Basta utilizar a função type"
   ],
   "cell_type": "markdown",
   "metadata": {}
  },
  {
   "cell_type": "code",
   "execution_count": 4,
   "metadata": {},
   "outputs": [
    {
     "output_type": "execute_result",
     "data": {
      "text/plain": [
       "int"
      ]
     },
     "metadata": {},
     "execution_count": 4
    }
   ],
   "source": [
    "type(variavel)"
   ]
  },
  {
   "source": [
    "## Variável com valor real (quebradinho)"
   ],
   "cell_type": "markdown",
   "metadata": {}
  },
  {
   "cell_type": "code",
   "execution_count": 5,
   "metadata": {},
   "outputs": [
    {
     "output_type": "stream",
     "name": "stdout",
     "text": [
      "2.5\n"
     ]
    },
    {
     "output_type": "execute_result",
     "data": {
      "text/plain": [
       "float"
      ]
     },
     "metadata": {},
     "execution_count": 5
    }
   ],
   "source": [
    "preco_do_produto = 2.5\n",
    "print(preco_do_produto)\n",
    "type(preco_do_produto)"
   ]
  },
  {
   "source": [
    "### Variável String (texto)"
   ],
   "cell_type": "markdown",
   "metadata": {}
  },
  {
   "cell_type": "code",
   "execution_count": 6,
   "metadata": {},
   "outputs": [
    {
     "output_type": "stream",
     "name": "stdout",
     "text": [
      "este é um texto\n"
     ]
    }
   ],
   "source": [
    "variavel = \"este é um texto\"\n",
    "print(variavel)"
   ]
  },
  {
   "source": [
    "### Variável Boolean\n",
    "\n",
    "Apenas duas possibilidades:\n",
    "\n",
    "Verdadeiro\n",
    "Falso"
   ],
   "cell_type": "markdown",
   "metadata": {}
  },
  {
   "cell_type": "code",
   "execution_count": 7,
   "metadata": {},
   "outputs": [
    {
     "output_type": "stream",
     "name": "stdout",
     "text": [
      "True\nFalse\n"
     ]
    }
   ],
   "source": [
    "verdadeiro = True\n",
    "falso = False\n",
    "print(verdadeiro)\n",
    "print(falso)"
   ]
  },
  {
   "source": [
    "### Listas\n",
    "São coleções de dados, podendo serem todos do mesmo tipo ou de tipos diferentes.\n"
   ],
   "cell_type": "markdown",
   "metadata": {}
  },
  {
   "cell_type": "code",
   "execution_count": 8,
   "metadata": {},
   "outputs": [
    {
     "output_type": "stream",
     "name": "stdout",
     "text": [
      "[1, 2, 3, 4, 5, 6, 7, 8]\n[True, False, True, True]\n[1, 'luan', 2, 'guilherme', True, 'daniel']\n"
     ]
    }
   ],
   "source": [
    "lista = [1,2,3,4,5,6,7,8]\n",
    "print(lista)\n",
    "\n",
    "lista2 = [True, False, True, True]\n",
    "print(lista2)\n",
    "\n",
    "lista_kenzie = [1, 'luan', 2, 'guilherme', True, 'daniel']\n",
    "print(lista_kenzie)\n"
   ]
  },
  {
   "source": [
    "### Condições\n",
    "if ..."
   ],
   "cell_type": "markdown",
   "metadata": {}
  },
  {
   "cell_type": "code",
   "execution_count": 10,
   "metadata": {},
   "outputs": [
    {
     "output_type": "stream",
     "name": "stdout",
     "text": [
      "é maior\nfoi\nO valor na variável 1 é menor\n"
     ]
    }
   ],
   "source": [
    "if 3 > 2:\n",
    "  print('é maior')\n",
    "  print('foi')\n",
    "\n",
    "# Com variáveis\n",
    "variavel_1 = 3\n",
    "variavel_2 = 4\n",
    "if variavel_1 < variavel_2:\n",
    "    print('O valor na variável 1 é menor')"
   ]
  },
  {
   "source": [
    "#### if ... elif ... else ..."
   ],
   "cell_type": "markdown",
   "metadata": {}
  },
  {
   "cell_type": "code",
   "execution_count": 11,
   "metadata": {},
   "outputs": [
    {
     "output_type": "stream",
     "name": "stdout",
     "text": [
      "O primeiro número é menor que o segundo\n"
     ]
    }
   ],
   "source": [
    "numero_1 = 3\n",
    "numero_2 = 4\n",
    "\n",
    "if numero_1 > numero_2:\n",
    "    print('O primeiro número é maior que o segundo')\n",
    "elif numero_1 == numero_2:\n",
    "    print('O primeiro número é igual ao segundo')\n",
    "else:\n",
    "    print('O primeiro número é menor que o segundo')"
   ]
  }
 ]
}