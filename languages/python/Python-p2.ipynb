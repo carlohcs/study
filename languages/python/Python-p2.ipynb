{
  "metadata": {
    "language_info": {
      "codemirror_mode": {
        "name": "ipython",
        "version": 3
      },
      "file_extension": ".py",
      "mimetype": "text/x-python",
      "name": "python",
      "nbconvert_exporter": "python",
      "pygments_lexer": "ipython3",
      "version": "2.7.17-final"
    },
    "orig_nbformat": 2,
    "kernelspec": {
      "name": "python3",
      "display_name": "Python 2.7.17 64-bit",
      "metadata": {
        "interpreter": {
          "hash": "767d51c1340bd893661ea55ea3124f6de3c7a262a8b4abca0554b478b1e2ff90"
        }
      }
    }
  },
  "nbformat": 4,
  "nbformat_minor": 2,
  "cells": [
    {
      "cell_type": "markdown",
      "metadata": {
        "id": "view-in-github",
        "colab_type": "text"
      },
      "source": [
        "<a href=\"https://colab.research.google.com/gist/LuanComputacao/d173863c35c47d96df77cd6367eba9c4/0-ao-python-day-2.ipynb\" target=\"_parent\"><img src=\"https://colab.research.google.com/assets/colab-badge.svg\" alt=\"Open In Colab\"/></a>"
      ]
    },
    {
      "source": [
        "# Python - Conceitos básicos - Parte 2"
      ],
      "cell_type": "markdown",
      "metadata": {}
    },
    {
      "source": [
        "## Tópicos\n",
        "* revisão sobre listas\n",
        "* iterações sobre listas\n",
        "* números\n",
        "* strings\n",
        "* ordenação de listas\n",
        "* pegando partes de uma lista\n",
        "* modificando uma string\n",
        "* iterando sobre uma string\n",
        "* removendo elemento de uma lista\n",
        "* tuplas"
      ],
      "cell_type": "markdown",
      "metadata": {}
    },
    {
      "cell_type": "markdown",
      "metadata": {
        "id": "HrRw4OP7UMsQ"
      },
      "source": [
        "## Revisão sobre listas"
      ]
    },
    {
      "cell_type": "code",
      "metadata": {
        "colab": {
          "base_uri": "https://localhost:8080/"
        },
        "id": "A8LdGqWgJlgS",
        "outputId": "374d3fb8-b110-4d05-d7df-ef72f4f7328e"
      },
      "source": [
        "lista1 = [10,20,30,40]\n",
        "type(lista1)"
      ],
      "execution_count": 54,
      "outputs": [
        {
          "output_type": "execute_result",
          "data": {
            "text/plain": [
              "list"
            ]
          },
          "metadata": {
            "tags": []
          },
          "execution_count": 54
        }
      ]
    },
    {
      "cell_type": "code",
      "metadata": {
        "colab": {
          "base_uri": "https://localhost:8080/"
        },
        "id": "_lx6cEDMJ9qF",
        "outputId": "4f063fd4-b8cd-4da9-c393-b1a094f36d93"
      },
      "source": [
        "lista1[0]"
      ],
      "execution_count": 55,
      "outputs": [
        {
          "output_type": "execute_result",
          "data": {
            "text/plain": [
              "10"
            ]
          },
          "metadata": {
            "tags": []
          },
          "execution_count": 55
        }
      ]
    },
    {
      "cell_type": "markdown",
      "metadata": {
        "id": "pRnIHewFZBMH"
      },
      "source": [
        "## Realisando iterações sobre uma lista utilizando o For\n"
      ]
    },
    {
      "cell_type": "markdown",
      "metadata": {
        "id": "Ci6YEtbWahU4"
      },
      "source": [
        "### lista de inteiros"
      ]
    },
    {
      "cell_type": "code",
      "metadata": {
        "colab": {
          "base_uri": "https://localhost:8080/"
        },
        "id": "tmhyvk_fKd3D",
        "outputId": "28992d14-4b29-4901-87fa-c7b0207ec24d"
      },
      "source": [
        "for numero in lista1:\n",
        "  dobro = numero * 2\n",
        "  print(numero)\n",
        "  print(dobro)\n",
        "  print('----')"
      ],
      "execution_count": 56,
      "outputs": [
        {
          "output_type": "stream",
          "text": [
            "10\n",
            "20\n",
            "----\n",
            "20\n",
            "40\n",
            "----\n",
            "30\n",
            "60\n",
            "----\n",
            "40\n",
            "80\n",
            "----\n"
          ],
          "name": "stdout"
        }
      ]
    },
    {
      "cell_type": "markdown",
      "metadata": {
        "id": "B0gGcXQJakeD"
      },
      "source": [
        "### lista de strings"
      ]
    },
    {
      "cell_type": "code",
      "metadata": {
        "colab": {
          "base_uri": "https://localhost:8080/"
        },
        "id": "Tx75a7jJMW7o",
        "outputId": "85d5bbf1-09b2-4f71-911a-48538aa83cd5"
      },
      "source": [
        "zombies = ['z2', 'z1', 'z4', 'z3']\n",
        "\n",
        "for zombie in zombies:\n",
        "  print('Nome: ', zombie)"
      ],
      "execution_count": 57,
      "outputs": [
        {
          "output_type": "stream",
          "text": [
            "Nome:  z2\n",
            "Nome:  z1\n",
            "Nome:  z4\n",
            "Nome:  z3\n"
          ],
          "name": "stdout"
        }
      ]
    },
    {
      "cell_type": "markdown",
      "metadata": {
        "id": "DJppe0v3an-A"
      },
      "source": [
        "## Ordenando uma lista"
      ]
    },
    {
      "cell_type": "markdown",
      "metadata": {
        "id": "ncf-PtyZdUXY"
      },
      "source": [
        "### ordenação padrão"
      ]
    },
    {
      "cell_type": "code",
      "metadata": {
        "colab": {
          "base_uri": "https://localhost:8080/"
        },
        "id": "_NmgowNfLhbZ",
        "outputId": "5cc4d87f-d60f-4fa7-c24a-8ff5ca69ab1e"
      },
      "source": [
        "print(zombies)\n",
        "zombies.sort()\n",
        "print(zombies)"
      ],
      "execution_count": 58,
      "outputs": [
        {
          "output_type": "stream",
          "text": [
            "['z2', 'z1', 'z4', 'z3']\n",
            "['z1', 'z2', 'z3', 'z4']\n"
          ],
          "name": "stdout"
        }
      ]
    },
    {
      "cell_type": "markdown",
      "metadata": {
        "id": "Ry0nVyMbddV0"
      },
      "source": [
        "### ordenação reversa"
      ]
    },
    {
      "cell_type": "code",
      "metadata": {
        "colab": {
          "base_uri": "https://localhost:8080/"
        },
        "id": "4woIdPXndf-V",
        "outputId": "861617a1-5911-455c-b136-0dee3eba4b9e"
      },
      "source": [
        "zombies.sort(reverse=True)\n",
        "print(zombies)"
      ],
      "execution_count": 59,
      "outputs": [
        {
          "output_type": "stream",
          "text": [
            "['z4', 'z3', 'z2', 'z1']\n"
          ],
          "name": "stdout"
        }
      ]
    },
    {
      "cell_type": "markdown",
      "metadata": {
        "id": "_uyBa1CWar38"
      },
      "source": [
        "## Pegando partes de uma string"
      ]
    },
    {
      "cell_type": "code",
      "metadata": {
        "colab": {
          "base_uri": "https://localhost:8080/"
        },
        "id": "vr30ytSXO_gH",
        "outputId": "b0956400-4a77-44d9-d5bf-ffe61ce9e6fe"
      },
      "source": [
        "nome = 'daniel da kenzie'\n",
        "print(nome)"
      ],
      "execution_count": 60,
      "outputs": [
        {
          "output_type": "stream",
          "text": [
            "daniel da kenzie\n"
          ],
          "name": "stdout"
        }
      ]
    },
    {
      "cell_type": "markdown",
      "metadata": {
        "id": "vs50CmZVbMVI"
      },
      "source": [
        "### posição específica"
      ]
    },
    {
      "cell_type": "code",
      "metadata": {
        "colab": {
          "base_uri": "https://localhost:8080/"
        },
        "id": "CIG_EeyybTQC",
        "outputId": "8927851c-981f-45eb-da5c-973f16ec06ce"
      },
      "source": [
        "print(nome[0])\n",
        "print(nome[4])"
      ],
      "execution_count": 61,
      "outputs": [
        {
          "output_type": "stream",
          "text": [
            "d\n",
            "e\n"
          ],
          "name": "stdout"
        }
      ]
    },
    {
      "cell_type": "markdown",
      "metadata": {
        "id": "ipZm8aGGbUvg"
      },
      "source": [
        "### intervalo de posições"
      ]
    },
    {
      "cell_type": "code",
      "metadata": {
        "colab": {
          "base_uri": "https://localhost:8080/"
        },
        "id": "i3qQCk1YOKEK",
        "outputId": "9a99d62d-9b6c-4fe0-835d-a869fbbd2c74"
      },
      "source": [
        "zombies[1:3]"
      ],
      "execution_count": 62,
      "outputs": [
        {
          "output_type": "execute_result",
          "data": {
            "text/plain": [
              "['z3', 'z2']"
            ]
          },
          "metadata": {
            "tags": []
          },
          "execution_count": 62
        }
      ]
    },
    {
      "cell_type": "code",
      "metadata": {
        "colab": {
          "base_uri": "https://localhost:8080/"
        },
        "id": "ZY35IH3mbeCD",
        "outputId": "7b90a9fe-a6a2-4334-9918-d582193cbf65"
      },
      "source": [
        "print(nome[0:4])"
      ],
      "execution_count": 63,
      "outputs": [
        {
          "output_type": "stream",
          "text": [
            "dani\n"
          ],
          "name": "stdout"
        }
      ]
    },
    {
      "cell_type": "markdown",
      "metadata": {
        "id": "uB9GuAWbbfiu"
      },
      "source": [
        "## Modificando uma string"
      ]
    },
    {
      "cell_type": "markdown",
      "metadata": {
        "id": "0WagiaOXblN7"
      },
      "source": [
        "### letras maiúsculas"
      ]
    },
    {
      "cell_type": "code",
      "metadata": {
        "colab": {
          "base_uri": "https://localhost:8080/",
          "height": 35
        },
        "id": "d-ngwlEiQqT5",
        "outputId": "79f6a79e-8d87-4578-d2f3-2d1dbddf3f3f"
      },
      "source": [
        "nome.upper()"
      ],
      "execution_count": 64,
      "outputs": [
        {
          "output_type": "execute_result",
          "data": {
            "application/vnd.google.colaboratory.intrinsic+json": {
              "type": "string"
            },
            "text/plain": [
              "'DANIEL DA KENZIE'"
            ]
          },
          "metadata": {
            "tags": []
          },
          "execution_count": 64
        }
      ]
    },
    {
      "cell_type": "markdown",
      "metadata": {
        "id": "UIchid8tbo4W"
      },
      "source": [
        "### como título"
      ]
    },
    {
      "cell_type": "code",
      "metadata": {
        "colab": {
          "base_uri": "https://localhost:8080/",
          "height": 35
        },
        "id": "1kM7a3mZRTXm",
        "outputId": "8a62506e-5fc6-4d0e-ee0a-442f264a86f4"
      },
      "source": [
        "nome.title()"
      ],
      "execution_count": 65,
      "outputs": [
        {
          "output_type": "execute_result",
          "data": {
            "application/vnd.google.colaboratory.intrinsic+json": {
              "type": "string"
            },
            "text/plain": [
              "'Daniel Da Kenzie'"
            ]
          },
          "metadata": {
            "tags": []
          },
          "execution_count": 65
        }
      ]
    },
    {
      "cell_type": "markdown",
      "metadata": {
        "id": "MiECGW0GcJA7"
      },
      "source": [
        "### Inverter uma string"
      ]
    },
    {
      "cell_type": "code",
      "metadata": {
        "colab": {
          "base_uri": "https://localhost:8080/"
        },
        "id": "Jy8hxvNiVwl2",
        "outputId": "7f43440c-5d0d-416c-fdb9-8737517a84c9"
      },
      "source": [
        "print(nome)\n",
        "print(nome[::-1])"
      ],
      "execution_count": 66,
      "outputs": [
        {
          "output_type": "stream",
          "text": [
            "daniel da kenzie\n",
            "eiznek ad leinad\n"
          ],
          "name": "stdout"
        }
      ]
    },
    {
      "cell_type": "markdown",
      "metadata": {
        "id": "N1u-H4dZbuNJ"
      },
      "source": [
        "## Iterando sobre uma string"
      ]
    },
    {
      "cell_type": "code",
      "metadata": {
        "colab": {
          "base_uri": "https://localhost:8080/"
        },
        "id": "X-3na-A8RfJ-",
        "outputId": "cf57dc9a-19bf-444e-cb07-ff3ca2d18ff7"
      },
      "source": [
        "for letra in nome[3:]:\n",
        "  print('Letra:', letra)"
      ],
      "execution_count": 67,
      "outputs": [
        {
          "output_type": "stream",
          "text": [
            "Letra: i\n",
            "Letra: e\n",
            "Letra: l\n",
            "Letra:  \n",
            "Letra: d\n",
            "Letra: a\n",
            "Letra:  \n",
            "Letra: k\n",
            "Letra: e\n",
            "Letra: n\n",
            "Letra: z\n",
            "Letra: i\n",
            "Letra: e\n"
          ],
          "name": "stdout"
        }
      ]
    },
    {
      "cell_type": "code",
      "metadata": {
        "id": "Yj-Q0n24VF_-"
      },
      "source": [
        "def soma():\n",
        "  pass"
      ],
      "execution_count": 68,
      "outputs": []
    },
    {
      "cell_type": "markdown",
      "metadata": {
        "id": "tfvD6KMrYTTy"
      },
      "source": [
        "### Remover um elemento especifico de uma lista\n"
      ]
    },
    {
      "cell_type": "code",
      "metadata": {
        "colab": {
          "base_uri": "https://localhost:8080/"
        },
        "id": "QpSxEZQNWFVG",
        "outputId": "3f8c0a93-0832-47da-a62b-d8f0526b1819"
      },
      "source": [
        "print(zombies)\n",
        "del zombies[2] # esta linha remove o elemento\n",
        "print(zombies)"
      ],
      "execution_count": 69,
      "outputs": [
        {
          "output_type": "stream",
          "text": [
            "['z4', 'z3', 'z2', 'z1']\n",
            "['z4', 'z3', 'z1']\n"
          ],
          "name": "stdout"
        }
      ]
    },
    {
      "cell_type": "markdown",
      "metadata": {
        "id": "9nV6ItVdc4_B"
      },
      "source": [
        "## Tuplas"
      ]
    },
    {
      "cell_type": "code",
      "metadata": {
        "colab": {
          "base_uri": "https://localhost:8080/"
        },
        "id": "ORW1j8qHZTl8",
        "outputId": "8762784d-749e-4f33-db4a-06e7d908c155"
      },
      "source": [
        "numeros_em_tuplas = (1,2,3,4,5)\n",
        "print(numeros_em_tuplas)"
      ],
      "execution_count": 70,
      "outputs": [
        {
          "output_type": "stream",
          "text": [
            "(1, 2, 3, 4, 5)\n"
          ],
          "name": "stdout"
        }
      ]
    }
  ]
}