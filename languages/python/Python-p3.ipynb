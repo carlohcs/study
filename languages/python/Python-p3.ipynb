{
  "metadata": {
    "language_info": {
      "codemirror_mode": {
        "name": "ipython",
        "version": 3
      },
      "file_extension": ".py",
      "mimetype": "text/x-python",
      "name": "python",
      "nbconvert_exporter": "python",
      "pygments_lexer": "ipython3",
      "version": "2.7.17-final"
    },
    "orig_nbformat": 2,
    "kernelspec": {
      "name": "python3",
      "display_name": "Python 2.7.17 64-bit",
      "metadata": {
        "interpreter": {
          "hash": "767d51c1340bd893661ea55ea3124f6de3c7a262a8b4abca0554b478b1e2ff90"
        }
      }
    }
  },
  "nbformat": 4,
  "nbformat_minor": 2,
  "cells": [
    {
      "cell_type": "markdown",
      "metadata": {
        "id": "view-in-github",
        "colab_type": "text"
      },
      "source": [
        "<a href=\"https://colab.research.google.com/gist/LuanComputacao/35503476b1ded5fe8eb314d5132bf44b/0-ao-python-day-3.ipynb\" target=\"_parent\"><img src=\"https://colab.research.google.com/assets/colab-badge.svg\" alt=\"Open In Colab\"/></a>"
      ]
    },
    {
      "source": [
        "# Python - Conceitos básicos - Parte 3"
      ],
      "cell_type": "markdown",
      "metadata": {}
    },
    {
      "source": [
        "## Tópicos\n",
        "\n",
        "* tuplas\n",
        "* troca de variáveis\n",
        "* elif\n",
        "* funções\n",
        "    * com um argumento\n",
        "    * com mais de um argumento\n",
        "    * com argumentos de valor padrão\n",
        "    * retornando mais de um valor usando tuplas"
      ],
      "cell_type": "markdown",
      "metadata": {}
    },
    {
      "cell_type": "markdown",
      "metadata": {
        "id": "uLD4BUQeVfbv"
      },
      "source": [
        "# Tuplas\n",
        "\n",
        "Alguns exemplos com tuplas:"
      ]
    },
    {
      "cell_type": "code",
      "metadata": {
        "colab": {
          "base_uri": "https://localhost:8080/"
        },
        "id": "mTbDPyWGT6-t",
        "outputId": "8603ab8b-3219-42b8-cdd5-5eb519feb7c4"
      },
      "source": [
        "t = (1, 2, 3)\n",
        "l = [1, 2, 3]\n",
        "\n",
        "l[0] = 10\n",
        "# print(l)\n",
        "\n",
        "# print(t[0])\n",
        "# t[0] = 10\n",
        "\n",
        "primeiro, segundo, terceiro = t\n",
        "print(primeiro)\n",
        "print(segundo)\n",
        "print(terceiro)"
      ],
      "execution_count": 1,
      "outputs": [
        {
          "output_type": "stream",
          "text": [
            "1\n",
            "2\n",
            "3\n"
          ],
          "name": "stdout"
        }
      ]
    },
    {
      "cell_type": "markdown",
      "metadata": {
        "id": "rUJ7JKjbVm3I"
      },
      "source": [
        "## Troca de variáveis"
      ]
    },
    {
      "cell_type": "code",
      "metadata": {
        "colab": {
          "base_uri": "https://localhost:8080/"
        },
        "id": "1D63O01PUZCB",
        "outputId": "a7ca09f5-09ff-4f54-d772-a5eba015f858"
      },
      "source": [
        "a = 1\n",
        "b = 2\n",
        "\n",
        "a, b = b, a\n",
        "\n",
        "print(a)\n",
        "print(b)"
      ],
      "execution_count": 2,
      "outputs": [
        {
          "output_type": "stream",
          "text": [
            "2\n",
            "1\n"
          ],
          "name": "stdout"
        }
      ]
    },
    {
      "cell_type": "markdown",
      "metadata": {
        "id": "HRs8umkiWsGJ"
      },
      "source": [
        "# elif"
      ]
    },
    {
      "cell_type": "code",
      "metadata": {
        "colab": {
          "base_uri": "https://localhost:8080/"
        },
        "id": "iLgS3wUtWrYm",
        "outputId": "47ba5506-b529-493a-9a8e-ca3e40657c87"
      },
      "source": [
        "momento = 'aslkdjlaskdja'\n",
        "\n",
        "if momento == 'dia':\n",
        "    print('bom dia')\n",
        "elif momento == 'tarde':\n",
        "    print('boa tarde')\n",
        "elif momento == 'noite':\n",
        "    print('boa noite')\n",
        "else:\n",
        "    print('não sei que horas são :)')"
      ],
      "execution_count": 3,
      "outputs": [
        {
          "output_type": "stream",
          "text": [
            "não sei que horas são :)\n"
          ],
          "name": "stdout"
        }
      ]
    },
    {
      "cell_type": "markdown",
      "metadata": {
        "id": "EAtXwxlWbHoF"
      },
      "source": [
        "# Funções"
      ]
    },
    {
      "cell_type": "code",
      "metadata": {
        "colab": {
          "base_uri": "https://localhost:8080/"
        },
        "id": "514255gXXEM3",
        "outputId": "7e56acff-5d80-4cf8-fcab-898aa12c5442"
      },
      "source": [
        "def multiplica_por_2(number):\n",
        "    print('estou executando a função...')\n",
        "    return number * 2\n",
        "\n",
        "quatro = multiplica_por_2(2)\n",
        "print(quatro)\n",
        "\n",
        "oito = multiplica_por_2(quatro)\n",
        "\n",
        "\n",
        "print(oito)\n",
        "\n"
      ],
      "execution_count": 4,
      "outputs": [
        {
          "output_type": "stream",
          "text": [
            "estou executando a função...\n",
            "4\n",
            "estou executando a função...\n",
            "8\n"
          ],
          "name": "stdout"
        }
      ]
    },
    {
      "cell_type": "markdown",
      "metadata": {
        "id": "zw2dJrK0gKcO"
      },
      "source": [
        "## funções com mais de um argumento"
      ]
    },
    {
      "cell_type": "code",
      "metadata": {
        "id": "zXHVVk1Cc0Fp",
        "colab": {
          "base_uri": "https://localhost:8080/"
        },
        "outputId": "f11036b6-0cb0-4424-85eb-2b7427491db6"
      },
      "source": [
        "def multiplica(a, b):\n",
        "    return a * b\n",
        "\n",
        "resultado_1 = multiplica(3, 2)\n",
        "print(resultado_1)"
      ],
      "execution_count": 5,
      "outputs": [
        {
          "output_type": "stream",
          "text": [
            "6\n"
          ],
          "name": "stdout"
        }
      ]
    },
    {
      "cell_type": "markdown",
      "metadata": {
        "id": "qG53uDstgR9e"
      },
      "source": [
        "## funções com argumentos de valor padrão"
      ]
    },
    {
      "cell_type": "code",
      "metadata": {
        "colab": {
          "base_uri": "https://localhost:8080/"
        },
        "id": "NyOjvoNEeEkr",
        "outputId": "54a5f983-c194-404c-d8f0-33a97019a5e9"
      },
      "source": [
        "def multiplica_com_valor_padrao(a, b=2):\n",
        "    return a * b\n",
        "\n",
        "resultado_2 = multiplica_com_valor_padrao(3, 2)\n",
        "print(resultado_2)\n",
        "resultado_3 = multiplica_com_valor_padrao(3)\n",
        "print(resultado_3)\n"
      ],
      "execution_count": 6,
      "outputs": [
        {
          "output_type": "stream",
          "text": [
            "6\n",
            "6\n"
          ],
          "name": "stdout"
        }
      ]
    },
    {
      "cell_type": "markdown",
      "metadata": {
        "id": "_WgwTW7pga1O"
      },
      "source": [
        "## retornando mais de um valor em uma função, utilizando tuplas"
      ]
    },
    {
      "cell_type": "code",
      "metadata": {
        "colab": {
          "base_uri": "https://localhost:8080/"
        },
        "id": "Vq2B6FjWe-Ei",
        "outputId": "71bf995e-9197-4dbb-9ce6-2e3368595ad2"
      },
      "source": [
        "def retorna_varios_valores(a, b=5):\n",
        "    soma = a + b\n",
        "    mult = a * b\n",
        "\n",
        "    return soma, mult\n",
        "\n",
        "resultados = retorna_varios_valores(7, 3)\n",
        "print(resultados)\n",
        "\n",
        "r_soma, r_mult = retorna_varios_valores(7, 3)\n",
        "print(f'Resultado da soma: {r_soma}')\n",
        "print(f'Resultado da multiplicação: {r_mult}')"
      ],
      "execution_count": 7,
      "outputs": [
        {
          "output_type": "stream",
          "text": [
            "(10, 21)\n",
            "Resultado da soma: 10\n",
            "Resultado da multiplicação: 21\n"
          ],
          "name": "stdout"
        }
      ]
    },
    {
      "cell_type": "markdown",
      "metadata": {
        "id": "pkG3vXZZghd8"
      },
      "source": [
        "# (pergunta) como instalar uma biblioteca no Google Colab?"
      ]
    },
    {
      "cell_type": "code",
      "metadata": {
        "id": "62Ez1lCgiJ8T"
      },
      "source": [
        "!pip -q install requests"
      ],
      "execution_count": 8,
      "outputs": []
    },
    {
      "cell_type": "code",
      "metadata": {
        "id": "mQ8OfsdSiRGT"
      },
      "source": [
        "import requests"
      ],
      "execution_count": 9,
      "outputs": []
    }
  ]
}