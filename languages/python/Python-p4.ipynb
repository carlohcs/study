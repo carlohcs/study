{
  "metadata": {
    "language_info": {
      "codemirror_mode": {
        "name": "ipython",
        "version": 3
      },
      "file_extension": ".py",
      "mimetype": "text/x-python",
      "name": "python",
      "nbconvert_exporter": "python",
      "pygments_lexer": "ipython3",
      "version": "2.7.17-final"
    },
    "orig_nbformat": 2,
    "kernelspec": {
      "name": "python3",
      "display_name": "Python 2.7.17 64-bit",
      "metadata": {
        "interpreter": {
          "hash": "767d51c1340bd893661ea55ea3124f6de3c7a262a8b4abca0554b478b1e2ff90"
        }
      }
    }
  },
  "nbformat": 4,
  "nbformat_minor": 2,
  "cells": [
    {
      "source": [
        "# Python - Conceitos básicos - Parte 4"
      ],
      "cell_type": "markdown",
      "metadata": {}
    },
    {
      "source": [
        "## Tópicos\n",
        "\n",
        "* escopo de funções\n",
        "* leitura e processamento de dados usando CSV\n"
      ],
      "cell_type": "markdown",
      "metadata": {}
    },
    {
      "cell_type": "markdown",
      "metadata": {
        "id": "rzdc4bkykOb9"
      },
      "source": [
        "[Link para o dataset de carros](https://www.kaggle.com/kushleshkumar/cornell-car-rental-dataset)"
      ]
    },
    {
      "cell_type": "markdown",
      "metadata": {
        "id": "eFEASdh0cZo3"
      },
      "source": [
        "# Escopo de funções"
      ]
    },
    {
      "cell_type": "code",
      "metadata": {
        "colab": {
          "base_uri": "https://localhost:8080/"
        },
        "id": "xWh-2qvhchKE",
        "outputId": "4c628188-ed49-4003-faca-6f45049d8ab7"
      },
      "source": [
        "letra = 'a'\n",
        "\n",
        "def fn_qualquer():\n",
        "    letra = 'b'\n",
        "    print(letra)\n",
        "\n",
        "fn_qualquer()\n",
        "print(letra)"
      ],
      "execution_count": null,
      "outputs": [
        {
          "output_type": "stream",
          "text": [
            "b\n",
            "a\n"
          ],
          "name": "stdout"
        }
      ]
    },
    {
      "cell_type": "markdown",
      "metadata": {
        "id": "MGaVtpTBKVGr"
      },
      "source": [
        "# Dicionários"
      ]
    },
    {
      "cell_type": "code",
      "metadata": {
        "colab": {
          "base_uri": "https://localhost:8080/"
        },
        "id": "ImzvbCT7KHUw",
        "outputId": "1d67ce17-4b97-4e4d-df18-d5c795750467"
      },
      "source": [
        "carro = {'modelo': 'celta', 'ano': 2000}\n",
        "\n",
        "# print(carro['modelo'])\n",
        "# print(carro['ano'])\n",
        "\n",
        "for chave, valor in carro.items():\n",
        "    print(chave)\n",
        "    print(valor)\n",
        "\n"
      ],
      "execution_count": null,
      "outputs": [
        {
          "output_type": "stream",
          "text": [
            "modelo\n",
            "celta\n",
            "ano\n",
            "2000\n"
          ],
          "name": "stdout"
        }
      ]
    },
    {
      "cell_type": "code",
      "metadata": {
        "colab": {
          "base_uri": "https://localhost:8080/"
        },
        "id": "9zwXifx7grv4",
        "outputId": "a5bebe97-fb75-4195-8a73-998a1ea0f1e8"
      },
      "source": [
        "import csv\n",
        "\n",
        "def carregar_arquivo(arquivo):\n",
        "    return open(arquivo, newline='')\n",
        "\n",
        "def obter_dados(arquivo):\n",
        "    leitor = csv.DictReader(arquivo, delimiter=',')\n",
        "    return leitor\n",
        "\n",
        "arquivo_csv = carregar_arquivo('CarRentalData.csv')\n",
        "dados = obter_dados(arquivo_csv)\n",
        "\n",
        "teslas_alugados = 0\n",
        "\n",
        "for carro in dados:\n",
        "    carro = dict(carro)\n",
        "    if carro['vehicle.make'] == 'Tesla':\n",
        "        teslas_alugados = teslas_alugados + 1\n",
        "\n",
        "print(teslas_alugados)\n"
      ],
      "execution_count": null,
      "outputs": [
        {
          "output_type": "stream",
          "text": [
            "598\n"
          ],
          "name": "stdout"
        }
      ]
    },
    {
      "cell_type": "markdown",
      "metadata": {
        "id": "1SYtIPw0kNYZ"
      },
      "source": []
    },
    {
      "cell_type": "code",
      "metadata": {
        "colab": {
          "base_uri": "https://localhost:8080/"
        },
        "id": "xUBDn257p5hl",
        "outputId": "be061b42-fb51-4441-a18c-23ebc98f89c2"
      },
      "source": [
        "import random\n",
        "\n",
        "arquivo_csv = carregar_arquivo('sorteio.csv')\n",
        "dados = obter_dados(arquivo_csv)\n",
        "\n",
        "dados = list(dados)\n",
        "\n",
        "r = dict(random.choice(dados))\n",
        "\n",
        "print(r)"
      ],
      "execution_count": null,
      "outputs": [
        {
          "output_type": "stream",
          "text": [
            "{'Qual seu e-mail?': 'edson.hainy@gmail.com'}\n"
          ],
          "name": "stdout"
        }
      ]
    }
  ]
}